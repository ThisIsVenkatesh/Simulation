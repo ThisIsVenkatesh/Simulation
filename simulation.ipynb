{
 "cells": [
  {
   "cell_type": "markdown",
   "metadata": {
    "toc": true
   },
   "source": [
    "<h1>Table of Contents<span class=\"tocSkip\"></span></h1>\n",
    "<div class=\"toc\"><ul class=\"toc-item\"><li><span><a href=\"#$Introduction$\" data-toc-modified-id=\"$Introduction$-1\">$Introduction$</a></span></li><li><span><a href=\"#$1^{st}-Experiment$\" data-toc-modified-id=\"$1^{st}-Experiment$-2\">$1^{st} Experiment$</a></span></li><li><span><a href=\"#$2^{nd}-Experiment$\" data-toc-modified-id=\"$2^{nd}-Experiment$-3\">$2^{nd} Experiment$</a></span></li><li><span><a href=\"#$3^{rd}-Experiment$\" data-toc-modified-id=\"$3^{rd}-Experiment$-4\">$3^{rd} Experiment$</a></span></li><li><span><a href=\"#$4^{th}-Experiment$--(Huyghen's-Gambling-problem)\" data-toc-modified-id=\"$4^{th}-Experiment$--(Huyghen's-Gambling-problem)-5\">$4^{th} Experiment$  (Huyghen's Gambling problem)</a></span></li></ul></div>"
   ]
  },
  {
   "cell_type": "markdown",
   "metadata": {},
   "source": [
    "# $Introduction$"
   ]
  },
  {
   "cell_type": "markdown",
   "metadata": {},
   "source": [
    "Statistical Simulation is a way to model **random events**, such that simulated outcomes closely match real-world outcomes. With simulation we can obtain the empirical probabilities of **complex events**, artificially generate data in order to test out a hypothesis. It can be very helpful to collect data for experiments which are too impractical(one of the reason can be because of time,resource constraint) to conduct. By simulation we can get the empirical results by saving lot of time(much faster than traditional data collection), effort(need only computational power for complex tasks), money with **less loss of accuracy.** Whenever a new statistical method is developed or used, there are assumptions that need to be tested and confirmed. Statisticians use simulated data to test them out. If the statistical model is pretty solid(well defined), then the results of simulation statistics can approximate real results. Simulation is basically rely on random numbers to reflect the variation (aims to describe the variation in outcomes under conditions that are hypothesized) to **model real-world outcomes**. "
   ]
  },
  {
   "cell_type": "markdown",
   "metadata": {},
   "source": [
    "- Following are few examples of simulating outcomes of experiments. In order to compare the results I attached the real probabilities of occurring the event that we are interested."
   ]
  },
  {
   "cell_type": "markdown",
   "metadata": {},
   "source": [
    "# $1^{st} Experiment$"
   ]
  },
  {
   "attachments": {},
   "cell_type": "markdown",
   "metadata": {},
   "source": [
    "![title](Images/Example1.jpeg)"
   ]
  },
  {
   "cell_type": "code",
   "execution_count": 1,
   "metadata": {},
   "outputs": [
    {
     "name": "stdout",
     "output_type": "stream",
     "text": [
      "The probability of occurring the event is 0.24782\n"
     ]
    },
    {
     "data": {
      "text/plain": [
       "0.254965"
      ]
     },
     "execution_count": 1,
     "metadata": {},
     "output_type": "execute_result"
    }
   ],
   "source": [
    "import numpy as np\n",
    "Sample_Space=np.arange(1,201) #Set of possible outcomes of an experiment\n",
    "probabilities=np.array([1/200]*200) #The probability of occurrence of each outcome listed in sample space\n",
    "# By the above two steps the probability distribution of an experiment is defined.\n",
    "Experiment_outcomes=list()\n",
    "for i in range(100000): #Repeating the experiment for more times to get the empirical results. typically 10000 to 100000 times\n",
    "    #In general it is said that we have to repeat the experiment until the outcomes show a stable pattern.\n",
    "    outcome=np.random.choice(Sample_Space,p=probabilities,size=1)\n",
    "    if(outcome%6==0 or outcome%8==0):\n",
    "        Experiment_outcomes.append(True)\n",
    "    else:\n",
    "        Experiment_outcomes.append(False)     \n",
    "\n",
    "prob=np.sum(Experiment_outcomes)/np.size(Experiment_outcomes)        \n",
    "print(\"The probability of occurring the event is\", prob)\n",
    "\n",
    "#--------------------------------------------------------------------------------------------\n",
    "#Alternative way\n",
    "outcome=np.random.choice(Sample_Space,p=probabilities,size=100000)\n",
    "(sum (filter(lambda x: x%6==0 or x%8==0 ,list(outcome)))/len(outcome))/100"
   ]
  },
  {
   "cell_type": "markdown",
   "metadata": {},
   "source": [
    "# $2^{nd} Experiment$"
   ]
  },
  {
   "attachments": {},
   "cell_type": "markdown",
   "metadata": {},
   "source": [
    "![title](Images/Example2.jpeg)"
   ]
  },
  {
   "cell_type": "code",
   "execution_count": 2,
   "metadata": {},
   "outputs": [
    {
     "name": "stdout",
     "output_type": "stream",
     "text": [
      "probability of occurring event 1 is :  0.27646\n",
      "probability of occurring event 2 is :  0.77942\n"
     ]
    }
   ],
   "source": [
    "die_outcome=[1,2,3,4,5,6]\n",
    "die_outcome_prob=[1/6]*6\n",
    "Event_1=list()\n",
    "Event_2=list()\n",
    "\n",
    "for i in range(100000):\n",
    "    die_1_outcome=np.random.choice(die_outcome,p=die_outcome_prob,size=1)\n",
    "    die_2_outcome=np.random.choice(die_outcome,p=die_outcome_prob,size=1)\n",
    "    if(die_1_outcome+die_2_outcome>8):\n",
    "        Event_1.append(True)\n",
    "    else:\n",
    "        Event_1.append(False)\n",
    "    if(die_1_outcome+die_2_outcome not in [7,11] ):\n",
    "        Event_2.append(True)\n",
    "    else:\n",
    "        Event_2.append(False)\n",
    "\n",
    "print(\"probability of occurring event 1 is : \",np.sum(Event_1)/np.size(Event_1))\n",
    "print(\"probability of occurring event 2 is : \",np.sum(Event_2)/np.size(Event_2))"
   ]
  },
  {
   "cell_type": "code",
   "execution_count": 3,
   "metadata": {},
   "outputs": [
    {
     "data": {
      "text/plain": [
       "(0.2777777777777778, 0.7777777777777778)"
      ]
     },
     "execution_count": 3,
     "metadata": {},
     "output_type": "execute_result"
    }
   ],
   "source": [
    "5/18,7/9 #Actual outpus"
   ]
  },
  {
   "cell_type": "markdown",
   "metadata": {},
   "source": [
    "# $3^{rd} Experiment$"
   ]
  },
  {
   "attachments": {},
   "cell_type": "markdown",
   "metadata": {},
   "source": [
    "![title](Images/Example3.jpeg)"
   ]
  },
  {
   "cell_type": "code",
   "execution_count": 4,
   "metadata": {},
   "outputs": [
    {
     "name": "stdout",
     "output_type": "stream",
     "text": [
      "probability of occurring the event is :  0.52496\n"
     ]
    }
   ],
   "source": [
    "box_items=['R']*6+['W']*4+['B']*5\n",
    "probabilities=[1/len(box_items)]*len(box_items)\n",
    "Event=list()\n",
    "for i in range(100000):\n",
    "    output_4_balls=np.random.choice(box_items,p=probabilities,size=4,replace=False)\n",
    "    if(('R' in output_4_balls) and ('W' in output_4_balls) and ('B' in output_4_balls)):\n",
    "        Event.append(True)\n",
    "    else:\n",
    "        Event.append(False)\n",
    "\n",
    "print(\"probability of occurring the event is : \",sum(Event)/len(Event))        "
   ]
  },
  {
   "cell_type": "markdown",
   "metadata": {},
   "source": [
    "# $4^{th} Experiment$  (Huyghen's Gambling problem)"
   ]
  },
  {
   "attachments": {},
   "cell_type": "markdown",
   "metadata": {},
   "source": [
    "![title](Images/Example4.jpeg)"
   ]
  },
  {
   "cell_type": "code",
   "execution_count": 5,
   "metadata": {},
   "outputs": [
    {
     "name": "stdout",
     "output_type": "stream",
     "text": [
      "probability of occurring the event is :  0.49411\n"
     ]
    }
   ],
   "source": [
    "die_outcome=[1,2,3,4,5,6]\n",
    "die_outcome_prob=[1/6]*6\n",
    "A_Wins=list()\n",
    "B_Wins=list()\n",
    "\n",
    "for i in range(100000):\n",
    "    while(True): #Let's begin the game, the game will be end until either A,B wins \n",
    "        A_outcome_of_pair_of_dice=np.random.choice(die_outcome,p=die_outcome_prob,size=2) # A begins the Game\n",
    "        if(sum(A_outcome_of_pair_of_dice)==6):\n",
    "            A_Wins.append(True)\n",
    "            B_Wins.append(False)\n",
    "            break\n",
    "        B_outcome_of_pair_of_dice=np.random.choice(die_outcome,p=die_outcome_prob,size=2) # B continuous the Game\n",
    "        if(sum(B_outcome_of_pair_of_dice)==7):\n",
    "            A_Wins.append(False)\n",
    "            B_Wins.append(True)\n",
    "            break\n",
    "        \n",
    "print(\"probability of occurring the event is : \",np.sum(A_Wins)/np.size(A_Wins))                \n"
   ]
  },
  {
   "cell_type": "code",
   "execution_count": 6,
   "metadata": {},
   "outputs": [
    {
     "data": {
      "text/plain": [
       "0.4918032786885246"
      ]
     },
     "execution_count": 6,
     "metadata": {},
     "output_type": "execute_result"
    }
   ],
   "source": [
    "30/61 # Actual probabilities"
   ]
  },
  {
   "cell_type": "markdown",
   "metadata": {},
   "source": [
    "**Note**: If we don't know about the sample space and their associated probabilities(together called probability distribution) we can't model the experiment (simulate the outcomes)"
   ]
  }
 ],
 "metadata": {
  "kernelspec": {
   "display_name": "Python 3",
   "language": "python",
   "name": "python3"
  },
  "language_info": {
   "codemirror_mode": {
    "name": "ipython",
    "version": 3
   },
   "file_extension": ".py",
   "mimetype": "text/x-python",
   "name": "python",
   "nbconvert_exporter": "python",
   "pygments_lexer": "ipython3",
   "version": "3.6.5"
  },
  "toc": {
   "base_numbering": 1,
   "nav_menu": {},
   "number_sections": false,
   "sideBar": false,
   "skip_h1_title": false,
   "title_cell": "Table of Contents",
   "title_sidebar": "Contents",
   "toc_cell": true,
   "toc_position": {
    "height": "140px",
    "left": "875px",
    "top": "110px",
    "width": "273px"
   },
   "toc_section_display": true,
   "toc_window_display": true
  }
 },
 "nbformat": 4,
 "nbformat_minor": 2
}
